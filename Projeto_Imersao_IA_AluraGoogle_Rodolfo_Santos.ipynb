{
  "nbformat": 4,
  "nbformat_minor": 0,
  "metadata": {
    "colab": {
      "provenance": [],
      "include_colab_link": true
    },
    "kernelspec": {
      "name": "python3",
      "display_name": "Python 3"
    },
    "language_info": {
      "name": "python"
    }
  },
  "cells": [
    {
      "cell_type": "markdown",
      "metadata": {
        "id": "view-in-github",
        "colab_type": "text"
      },
      "source": [
        "<a href=\"https://colab.research.google.com/github/rodolfobsantos/Projeto_ImersaoIA_AluraGoogle-AEye/blob/main/Projeto_Imersao_IA_AluraGoogle_Rodolfo_Santos.ipynb\" target=\"_parent\"><img src=\"https://colab.research.google.com/assets/colab-badge.svg\" alt=\"Open In Colab\"/></a>"
      ]
    },
    {
      "cell_type": "markdown",
      "source": [
        "# Projeto_ImersaoIA_AluraGoogle-AEye - Rodolfo Santos"
      ],
      "metadata": {
        "id": "UbS4OLzSf6KV"
      }
    },
    {
      "cell_type": "code",
      "source": [
        "# Instalação dos módulos do Gemini e do Google Text-to-Speech\n",
        "!pip install google-generativeai\n",
        "!pip install gTTS"
      ],
      "metadata": {
        "id": "47HPRjMQevfl"
      },
      "execution_count": null,
      "outputs": []
    },
    {
      "cell_type": "code",
      "execution_count": null,
      "metadata": {
        "id": "y6r1YPU0TwDT"
      },
      "outputs": [],
      "source": [
        "# Importa as bibliotecas necessárias.\n",
        "from gtts import gTTS # Para conversão de texto em fala\n",
        "from IPython.display import Audio # Para reproduzir áudio no Jupyter Notebook\n",
        "from pathlib import Path\n",
        "from time import sleep\n",
        "import hashlib\n",
        "import google.generativeai as genai\n",
        "from google.colab import userdata\n",
        "\n",
        "# Configura a API do Google Generative AI com sua chave de API.\n",
        "# Substitua pela sua chave de API real.\n",
        "chave_de_api = userdata.get('SECRET_KEY')\n",
        "genai.configure(api_key=chave_de_api)\n",
        "\n",
        "# Define as configurações de geração para o modelo de linguagem.\n",
        "generation_config = {\n",
        "    \"temperature\": 1,  # Controla a criatividade da resposta (entre 0 e 1)\n",
        "    \"top_p\": 0.95,    # Define a probabilidade cumulativa máxima (entre 0 e 1)\n",
        "    \"top_k\": 0,       # Define o número máximo de tokens a serem considerados (0 para ilimitado)\n",
        "    \"max_output_tokens\": 8192,  # Define o número máximo de tokens na resposta\n",
        "}\n",
        "\n",
        "# Define as configurações de segurança para evitar conteúdo inadequado.\n",
        "safety_settings = [\n",
        "  {\n",
        "    \"category\": \"HARM_CATEGORY_HARASSMENT\",\n",
        "    \"threshold\": \"BLOCK_MEDIUM_AND_ABOVE\"\n",
        "  },\n",
        "  {\n",
        "    \"category\": \"HARM_CATEGORY_HATE_SPEECH\",\n",
        "    \"threshold\": \"BLOCK_MEDIUM_AND_ABOVE\"\n",
        "  },\n",
        "  {\n",
        "    \"category\": \"HARM_CATEGORY_SEXUALLY_EXPLICIT\",\n",
        "    \"threshold\": \"BLOCK_MEDIUM_AND_ABOVE\"\n",
        "  },\n",
        "  {\n",
        "    \"category\": \"HARM_CATEGORY_DANGEROUS_CONTENT\",\n",
        "    \"threshold\": \"BLOCK_MEDIUM_AND_ABOVE\"\n",
        "  },\n",
        "]\n",
        "\n",
        "# Inicializa o modelo de linguagem Generative AI com as configurações especificadas.\n",
        "model = genai.GenerativeModel(model_name=\"gemini-1.5-pro-latest\",\n",
        "                              generation_config=generation_config,\n",
        "                              safety_settings=safety_settings)\n",
        "\n",
        "# Cria a lista de partes do prompt para o modelo.\n",
        "prompt_parts = [\n",
        "  # Instruções para o modelo sobre como descrever obras de arte para pessoas com deficiência visual.\n",
        "  \"Aja como um simpático especialista em arte.\\nDescreva uma obra de arte de forma sucinta para uma pessoa com deficiência visual, focando em informações relevantes que possam ser compreendidas através de outros sentidos e contexto.\\nA descrição deve ter de 4 a 5 parágrafos curtos.\\nVocê incluirá nessa descrição informações como o tipo da obra (pintura, escultura, arquitetura etc.), título da obra, artista e data de criação.\\nDescreva forma e tamanho, com referência a objetos conhecidos para tamanho, texturas e materiais. Descreva as cores, luz, sombra, composição (organização dos elementos, linhas, formas, equilíbrio).Inclua informações de conteúdo e significado, como os elementos principais (figuras humanas, objetos, paisagem etc.), ações e expressões (o que está acontecendo na obra), simbolismo e interpretação (significado da obra, contexto histórico ou cultural).\\nUtilize uma linguagem vívida e descritiva, usando linguagem sensorial para criar imagens mentais.\\nEvite jargões técnicos e termos complexos. Foque na descrição, evitando interpretações subjetivas.\\nPriorize informações que sejam úteis para a compreensão da obra por uma pessoa com deficiência visual.\",\n",
        "\n",
        "  # Exemplos e suas respectivas saídas desejadas.\n",
        "  \"input: \",\n",
        "  genai.upload_file(\"/content/cafe-portinari.jpg\"),\n",
        "  \"output: A pintura que descreverei se chama 'Café', do artista Cândido Portinari, pintada em 1935. A obra retrata uma cena de trabalho rural, com diversas figuras humanas em movimento e envolvidas em diferentes tarefas.\\nA cena se passa ao ar livre, com um fundo de vegetação densa e palmeiras altas, que remetem ao ambiente tropical. A sensação é de um dia quente, com o sol forte incidindo sobre os trabalhadores. As cores predominantes são tons terrosos, com destaque para o marrom da terra, o verde das plantas e o branco das roupas dos trabalhadores.\\nNo centro da imagem, vemos um grupo de homens carregando grandes sacos nas costas. Seus corpos estão curvados pelo esforço, músculos tensos e rostos suados demonstram a dificuldade do trabalho. Ao redor deles, outros trabalhadores estão agachados, enchendo cestos e peneirando a terra. As roupas simples e os pés descalços sugerem que são trabalhadores rurais.\\nAo fundo, mais pessoas caminham em uma trilha entre a vegetação. Elas parecem se dirigir para o local de trabalho, algumas carregando ferramentas ou cestos vazios. A composição da pintura é dinâmica, com linhas diagonais que guiam o olhar do observador através da cena, acompanhando o ritmo do trabalho.\\nA pintura transmite uma sensação de trabalho árduo e esforço coletivo. As texturas ásperas da terra e dos sacos contrastam com a suavidade das roupas de algodão e da pele dos trabalhadores. A obra 'Café' é um retrato da vida rural brasileira, destacando a importância do trabalho braçal e da cooperação na produção do café, um dos principais produtos de exportação do país na época.\",\n",
        "  \"input: \",\n",
        "  genai.upload_file(\"/content/mona-lisa-da-vinci.jpg\"),\n",
        "  \"output: A obra que descreverei é a pintura 'Mona Lisa', do renomado artista Leonardo da Vinci, criada no início do século XVI. Trata-se de um retrato de uma mulher, sentada com as mãos cruzadas sobre o colo.\\nA Mona Lisa possui um rosto sereno, com sobrancelhas finas e arqueadas e um leve sorriso nos lábios. Seus cabelos escuros caem sobre os ombros em suaves ondas. Ela veste um vestido escuro de mangas longas e um véu delicado cobre sua cabeça.\\nAo fundo, podemos observar uma paisagem vasta e serena, com montanhas azuladas, um rio sinuoso e um céu claro. A luz na pintura é suave e difusa, envolvendo a Mona Lisa em um brilho sutil e criando um contraste delicado entre luz e sombra.\\nA técnica utilizada por Da Vinci é o sfumato, que consiste em suaves gradações de luz e sombra para criar uma aparência tridimensional. A textura da pintura é lisa e delicada, com pinceladas quase imperceptíveis.\\nA 'Mona Lisa' é mundialmente famosa por seu enigmático sorriso e pelo olhar cativante da mulher, que parece seguir o observador. A obra é um marco da arte renascentista e um exemplo da maestria de Leonardo da Vinci na representação da figura humana e da natureza.\",\n",
        "  \"input: \",\n",
        "  genai.upload_file(\"/content/guernica-picasso.jpg\"),\n",
        "  \"output: A obra que descreverei é uma pintura intensa e complexa chamada 'Guernica', do famoso artista Pablo Picasso, criada em 1937. Ela é uma representação do bombardeio da cidade basca de Guernica durante a Guerra Civil Espanhola e retrata o horror e o sofrimento causados pela guerra.\\nA pintura é em preto e branco, com uma escala monumental, e apresenta uma cena caótica e fragmentada, cheia de figuras humanas e animais distorcidos pela dor e pelo terror.\\nNo centro da obra, vemos um cavalo em agonia, com a boca aberta em um relincho silencioso e o corpo perfurado por uma lança. À sua esquerda, uma mulher desesperada ergue os braços para o céu, segurando o corpo sem vida de seu filho. Outras figuras humanas aparecem em meio aos destroços, algumas com os membros mutilados, outras com expressões de medo e desespero.\\nNa parte superior da pintura, uma lâmpada em forma de olho parece testemunhar a cena com frieza. À direita, um touro observa a cena com uma expressão ambígua, que pode representar a brutalidade ou a resistência.\\nA composição da obra é dinâmica e desequilibrada, com formas geométricas cortantes e linhas angulosas que transmitem a violência do bombardeio. As texturas são ásperas e contrastantes, com áreas escuras e densas que se opõem a zonas brancas e vazias.\\n'Guernica' é uma obra poderosa e perturbadora que denuncia a brutalidade da guerra e o sofrimento humano. Ela é um símbolo universal da luta contra a violência e a opressão.\",\n",
        "  \"input: \",\n",
        "  genai.upload_file(\"/content/david-michelangelo.jpg\"),\n",
        "  \"output: A obra que descreverei é uma escultura tridimensional em mármore branco, chamada 'David', do renomado artista Michelangelo, criada no início do século XVI. Ela representa a figura bíblica de David, um jovem pastor que derrotou o gigante Golias.\\nDavid é retratado como um homem nu, em tamanho maior que o natural, com uma postura ereta e confiante. Seu corpo é musculoso e atlético, com detalhes anatômicos minuciosamente esculpidos. Os músculos de suas pernas estão tensos, como se estivesse pronto para entrar em ação. Seu braço esquerdo está dobrado, segurando uma funda sobre o ombro, enquanto a mão direita repousa ao longo do corpo, segurando uma pedra.\\nO rosto de David é jovem e concentrado, com o olhar fixo em um ponto distante, como se estivesse mirando em seu oponente. Seu cabelo é cacheado e abundante, emoldura seu rosto com suavidade. A expressão é de calma e determinação, transmitindo a coragem e a confiança do herói bíblico.\\nA escultura é rica em detalhes e texturas. A suavidade da pele contrasta com a aspereza do cabelo e da funda. A luz incide sobre a superfície do mármore, criando sombras suaves que acentuam a musculatura e a forma do corpo.\\n'David' é uma obra-prima do Renascimento italiano e um ícone da arte ocidental. Ela representa o ideal de beleza masculina e a vitória da razão e da coragem sobre a força bruta.\",\n",
        "  \"input: \",\n",
        "  genai.upload_file(\"/content/il-duomo-florenca.jpg\"),\n",
        "  \"output: A imagem que descreverei é uma vista panorâmica da cidade de Florença, na Itália, com a majestosa Catedral de Santa Maria del Fiore, também conhecida como Duomo de Florença, como ponto focal. Esta catedral é uma obra-prima da arquitetura gótica e renascentista, iniciada no final do século XIII e concluída no século XV.\\nA fachada da catedral é ricamente ornamentada em mármore branco, verde e rosa, formando padrões geométricos complexos. As esculturas, arcos e colunas criam uma superfície texturizada e impressionante. Acima da entrada principal, há um grande vitral circular, como um olho que observa a cidade. Ao lado da fachada, a torre sineira, projetada por Giotto, se ergue com elegância, alcançando o céu com sua altura e delicadeza.\\nA cúpula da catedral, uma obra-prima da engenharia renascentista projetada por Filippo Brunelleschi, é uma enorme estrutura octogonal coberta por telhas vermelhas. Sua forma se destaca no horizonte da cidade, como um símbolo de poder e inovação.\\nAo redor da catedral, podemos observar o casario de Florença, com seus telhados vermelhos se estendendo até onde a vista alcança. Ao fundo, colinas verdejantes e montanhas azuis completam a paisagem, contrastando com as cores vibrantes da cidade.\\nA imagem captura a beleza e a imponência do Duomo de Florença, um marco da arquitetura italiana e um testemunho da riqueza cultural e histórica da cidade.\",\n",
        "]\n",
        "\n",
        "# Solicita o caminho da imagem que deseja avaliar\n",
        "contador_imagem = 0\n",
        "caminho_da_imagem = input(\"Escreva o caminho/path da imagem que deseja avaliar (Para sair, digite fim): \")\n",
        "\n",
        "while caminho_da_imagem != \"fim\":\n",
        "  contador_imagem += 1\n",
        "  nova_imagem = [\n",
        "    \"input: \",\n",
        "    genai.upload_file(caminho_da_imagem),\n",
        "    \"output: \",\n",
        "  ]\n",
        "\n",
        "  # Atualiza o prompt a ser submetido ao modelo\n",
        "  prompt_parts = prompt_parts + nova_imagem\n",
        "  print(\"\\n\")\n",
        "  print(\"Avaliando \" + caminho_da_imagem)\n",
        "\n",
        "  # Gera a resposta do modelo com base no prompt fornecido.\n",
        "  resposta = model.generate_content(prompt_parts)\n",
        "  print(resposta.text)\n",
        "\n",
        "  # Configura o idioma e a região para a conversão de texto em fala.\n",
        "  idioma = 'pt'\n",
        "  tld = 'com.br'\n",
        "\n",
        "  # Converte a resposta em áudio usando o gTTS.\n",
        "  audio = gTTS(text=resposta.text, lang=idioma, tld=tld)\n",
        "\n",
        "  # Salva o áudio como um arquivo MP3.\n",
        "  audio.save(\"/content/resposta_em_audio-imagem\" + str(contador_imagem) + \".mp3\")\n",
        "  print(\"Resposta em áudio salva como resposta_em_audio-imagem\" + str(contador_imagem) + \".mp3\")\n",
        "  print(\"\\n\")\n",
        "\n",
        "  caminho_da_imagem = input(\"Escreva o caminho/path da imagem que deseja avaliar (Para sair, digite fim): \")\n"
      ]
    },
    {
      "cell_type": "code",
      "source": [
        "# Reproduz o áudio no Jupyter Notebook.\n",
        "reproducao = input(\"Digite o caminho do áudio que deseja reproduzir: \")\n",
        "Audio(reproducao)"
      ],
      "metadata": {
        "id": "YMWVJtBEU7PM"
      },
      "execution_count": null,
      "outputs": []
    }
  ]
}